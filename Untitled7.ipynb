{
 "cells": [
  {
   "cell_type": "code",
   "execution_count": 1,
   "id": "9ba75c84",
   "metadata": {},
   "outputs": [],
   "source": [
    "import face_recognition\n",
    "import os\n",
    "from sklearn import svm\n",
    "import matplotlib.pyplot as plt\n",
    "import pickle\n",
    "import dlib"
   ]
  },
  {
   "cell_type": "code",
   "execution_count": 7,
   "id": "1e7ca4aa",
   "metadata": {
    "scrolled": true
   },
   "outputs": [
    {
     "name": "stdout",
     "output_type": "stream",
     "text": [
      "1.2.3\n",
      "19.24.0\n"
     ]
    }
   ],
   "source": [
    "print(face_recognition.__version__)\n",
    "print(dlib.__version__)"
   ]
  },
  {
   "cell_type": "code",
   "execution_count": 1,
   "id": "3f9da691",
   "metadata": {},
   "outputs": [
    {
     "name": "stdout",
     "output_type": "stream",
     "text": [
      "Collecting opencv_contrib_python\n",
      "  Downloading opencv_contrib_python-4.6.0.66-cp36-abi3-win_amd64.whl (42.5 MB)\n",
      "Requirement already satisfied: numpy>=1.19.3 in c:\\users\\ibrahim\\anaconda3\\lib\\site-packages (from opencv_contrib_python) (1.21.5)\n",
      "Installing collected packages: opencv-contrib-python\n",
      "Successfully installed opencv-contrib-python-4.6.0.66\n"
     ]
    }
   ],
   "source": [
    "!pip install --user opencv_contrib_python"
   ]
  },
  {
   "cell_type": "code",
   "execution_count": 3,
   "id": "22f7b765",
   "metadata": {},
   "outputs": [],
   "source": [
    "import cv2"
   ]
  },
  {
   "cell_type": "code",
   "execution_count": 4,
   "id": "cdf7be59",
   "metadata": {},
   "outputs": [
    {
     "name": "stdout",
     "output_type": "stream",
     "text": [
      "alessandro_del_piero\n",
      "andreas_iniesta\n",
      "andriy_shevchenko\n",
      "cristiano_ronaldo\n",
      "didier_drogba\n",
      "diego_maradona\n",
      "edinson_cavani\n",
      "francesco_totti\n",
      "gianlugi_buffon\n",
      "iker_casillas\n",
      "lionel_messi\n",
      "luka_modric\n",
      "mohamed_salah\n",
      "pavel_nedved\n",
      "pele\n",
      "riyan_giggs\n",
      "roberto_baggio\n",
      "roberto_carlos\n",
      "ronaldinho\n",
      "ronaldo_nazario\n",
      "samuel_eto\n",
      "zlatan_ibrahimovic\n",
      "done\n",
      "2972\n"
     ]
    }
   ],
   "source": [
    "# images and the labels are their names\n",
    "encodings = []\n",
    "names = []\n",
    "  \n",
    "# Training directory\n",
    "dir = 'C:/Users/Ibrahim/Desktop/projetVA/data/football_golden_foot/football_golden_foot'\n",
    "train_dir = os.listdir(dir)\n",
    "i=0\n",
    "# Loop through each person in the training directory\n",
    "for person in train_dir:\n",
    "    print(person)\n",
    "    pix = os.listdir(dir + '/'+person)\n",
    "\n",
    "        # Loop through each training image for the current person\n",
    "    for person_img in pix:\n",
    "            # Get the face encodings for the face in each image file\n",
    "        directory = dir+ '/'+person + \"/\" + person_img;\n",
    "        face = face_recognition.load_image_file(directory)\n",
    "        face_bounding_boxes = face_recognition.face_locations(face)\n",
    "        if len(face_bounding_boxes) == 1:\n",
    "            face_enc = face_recognition.face_encodings(face)[0]\n",
    "                # Add face encoding for current image \n",
    "                # with corresponding label (name) to the training data\n",
    "            encodings.append(face_enc)\n",
    "            names.append(person)\n",
    "        else:   \n",
    "            i+=1;\n",
    "  \n",
    "   \n",
    "print(\"done\")\n",
    "print(i)"
   ]
  },
  {
   "cell_type": "code",
   "execution_count": 5,
   "id": "cdbe0d09",
   "metadata": {},
   "outputs": [],
   "source": [
    "from sklearn.model_selection import train_test_split\n",
    "import random\n",
    "import numpy as np"
   ]
  },
  {
   "cell_type": "code",
   "execution_count": 6,
   "id": "49610eae",
   "metadata": {},
   "outputs": [],
   "source": [
    "x_train, x_test, y_train, y_test = train_test_split(encodings,   # input data\n",
    "                                                    names,                            # target/output data \n",
    "                                                    test_size=0.10, \n",
    "                                                    random_state=random.seed())"
   ]
  },
  {
   "cell_type": "code",
   "execution_count": 7,
   "id": "5e02cb52",
   "metadata": {},
   "outputs": [
    {
     "data": {
      "text/plain": [
       "SVC(probability=True)"
      ]
     },
     "execution_count": 7,
     "metadata": {},
     "output_type": "execute_result"
    }
   ],
   "source": [
    "# Create and train the SVC classifier\n",
    "clf = svm.SVC()\n",
    "clf.probability=True\n",
    "clf.fit(x_train, y_train)"
   ]
  },
  {
   "cell_type": "code",
   "execution_count": 9,
   "id": "9384c66b",
   "metadata": {},
   "outputs": [
    {
     "name": "stdout",
     "output_type": "stream",
     "text": [
      "0.943950177935943\n",
      "3372 3372\n"
     ]
    }
   ],
   "source": [
    "print(clf.score(x_train,y_train))\n",
    "print(len(x_train),len(y_train))"
   ]
  },
  {
   "cell_type": "code",
   "execution_count": 10,
   "id": "f5d49116",
   "metadata": {},
   "outputs": [],
   "source": [
    "def save_model(model, filename, path=\"\"): \n",
    "    with open(os.path.join(path, filename), 'wb') as out_name:\n",
    "        pickle.dump(model, out_name, pickle.HIGHEST_PROTOCOL)\n",
    "# haaddak hnaya "
   ]
  },
  {
   "cell_type": "code",
   "execution_count": 11,
   "id": "851205a9",
   "metadata": {},
   "outputs": [],
   "source": [
    "save_model(clf, \"deuxiemeModel.pkl\", path=\"C:/Users/Ibrahim/Desktop/projetVA/models\")"
   ]
  }
 ],
 "metadata": {
  "kernelspec": {
   "display_name": "Python 3 (ipykernel)",
   "language": "python",
   "name": "python3"
  },
  "language_info": {
   "codemirror_mode": {
    "name": "ipython",
    "version": 3
   },
   "file_extension": ".py",
   "mimetype": "text/x-python",
   "name": "python",
   "nbconvert_exporter": "python",
   "pygments_lexer": "ipython3",
   "version": "3.9.12"
  }
 },
 "nbformat": 4,
 "nbformat_minor": 5
}
